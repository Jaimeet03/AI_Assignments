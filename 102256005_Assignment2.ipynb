{
  "nbformat": 4,
  "nbformat_minor": 0,
  "metadata": {
    "colab": {
      "provenance": []
    },
    "kernelspec": {
      "name": "python3",
      "display_name": "Python 3"
    },
    "language_info": {
      "name": "python"
    }
  },
  "cells": [
    {
      "cell_type": "code",
      "execution_count": 1,
      "metadata": {
        "colab": {
          "base_uri": "https://localhost:8080/"
        },
        "id": "2WdP7jZTKuc5",
        "outputId": "0fcbcef9-41ab-43f5-f129-1d4895be7e4f"
      },
      "outputs": [
        {
          "output_type": "stream",
          "name": "stdout",
          "text": [
            "Title: A Light in the Attic, Price: Â£51.77\n",
            "Title: Tipping the Velvet, Price: Â£53.74\n",
            "Title: Soumission, Price: Â£50.10\n",
            "Title: Sharp Objects, Price: Â£47.82\n",
            "Title: Sapiens: A Brief History of Humankind, Price: Â£54.23\n",
            "Title: The Requiem Red, Price: Â£22.65\n",
            "Title: The Dirty Little Secrets of Getting Your Dream Job, Price: Â£33.34\n",
            "Title: The Coming Woman: A Novel Based on the Life of the Infamous Feminist, Victoria Woodhull, Price: Â£17.93\n",
            "Title: The Boys in the Boat: Nine Americans and Their Epic Quest for Gold at the 1936 Berlin Olympics, Price: Â£22.60\n",
            "Title: The Black Maria, Price: Â£52.15\n",
            "\n",
            "Data saved to books.csv\n"
          ]
        }
      ],
      "source": [
        "import requests\n",
        "from bs4 import BeautifulSoup\n",
        "import csv\n",
        "\n",
        "\n",
        "url = \"https://books.toscrape.com/\"\n",
        "response = requests.get(url)\n",
        "soup = BeautifulSoup(response.text, 'html.parser')\n",
        "\n",
        "\n",
        "books = soup.find_all('article', class_='product_pod')[:10]\n",
        "\n",
        "\n",
        "data = []\n",
        "for book in books:\n",
        "    title = book.h3.a['title']\n",
        "    price = book.find('p', class_='price_color').text\n",
        "    data.append([title, price])\n",
        "    print(f\"Title: {title}, Price: {price}\")\n",
        "\n",
        "\n",
        "with open('books.csv', 'w', newline='', encoding='utf-8') as f:\n",
        "    writer = csv.writer(f)\n",
        "    writer.writerow(['Title', 'Price'])\n",
        "    writer.writerows(data)\n",
        "\n",
        "print(\"\\nData saved to books.csv\")\n"
      ]
    },
    {
      "cell_type": "markdown",
      "source": [
        "Question 2"
      ],
      "metadata": {
        "id": "EMqmAj4ULYXn"
      }
    },
    {
      "cell_type": "code",
      "source": [
        "import requests\n",
        "import pandas as pd\n",
        "import matplotlib.pyplot as plt\n",
        "\n",
        "# Replace with your OpenWeather API key\n",
        "api_key = 'f5e67cc6f2d767d6c7139057875346be'\n",
        "\n",
        "# List of Indian cities\n",
        "cities = ['Delhi', 'Mumbai', 'Bangalore', 'Kolkata', 'Chennai']\n",
        "\n",
        "# Base URL\n",
        "url = 'http://api.openweathermap.org/data/2.5/weather'\n",
        "\n",
        "# Store results\n",
        "weather_data = []\n",
        "\n",
        "for city in cities:\n",
        "    params = {'q': city, 'appid': api_key, 'units': 'metric'}\n",
        "    response = requests.get(url, params=params)\n",
        "    data = response.json()\n",
        "\n",
        "    if response.status_code == 200:\n",
        "        weather = {\n",
        "            'City': city,\n",
        "            'Temperature (°C)': data['main']['temp'],\n",
        "            'Humidity (%)': data['main']['humidity'],\n",
        "            'Condition': data['weather'][0]['description']\n",
        "        }\n",
        "        weather_data.append(weather)\n",
        "    else:\n",
        "        print(f\"Failed to get data for {city}\")\n",
        "\n",
        "# Create DataFrame\n",
        "df = pd.DataFrame(weather_data)\n",
        "print(df)\n",
        "\n",
        "# Plot bar chart of temperature\n",
        "plt.figure(figsize=(8,5))\n",
        "plt.bar(df['City'], df['Temperature (°C)'], color='skyblue')\n",
        "plt.title('Current Temperature in Indian Cities')\n",
        "plt.xlabel('City')\n",
        "plt.ylabel('Temperature (°C)')\n",
        "plt.grid(True)\n",
        "plt.show()\n"
      ],
      "metadata": {
        "colab": {
          "base_uri": "https://localhost:8080/",
          "height": 591
        },
        "id": "rN10ZoVVOZRK",
        "outputId": "a70f9487-e4ef-44cc-8ed8-247a8ea9b52c"
      },
      "execution_count": 2,
      "outputs": [
        {
          "output_type": "stream",
          "name": "stdout",
          "text": [
            "        City  Temperature (°C)  Humidity (%)      Condition\n",
            "0      Delhi             28.05            89           mist\n",
            "1     Mumbai             25.99            94           mist\n",
            "2  Bangalore             19.72            92  broken clouds\n",
            "3    Kolkata             27.97           100           haze\n",
            "4    Chennai             27.63            86           mist\n"
          ]
        },
        {
          "output_type": "display_data",
          "data": {
            "text/plain": [
              "<Figure size 800x500 with 1 Axes>"
            ],
            "image/png": "[encoded data removed]"
          },
          "metadata": {}
        }
      ]
    },
    {
      "cell_type": "code",
      "source": [],
      "metadata": {
        "id": "NVzGSIMRROR-"
      },
      "execution_count": null,
      "outputs": []
    }
  ]
}