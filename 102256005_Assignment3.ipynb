{
  "nbformat": 4,
  "nbformat_minor": 0,
  "metadata": {
    "colab": {
      "provenance": [],
      "gpuType": "T4"
    },
    "kernelspec": {
      "name": "python3",
      "display_name": "Python 3"
    },
    "language_info": {
      "name": "python"
    },
    "accelerator": "GPU"
  },
  "cells": [
    {
      "cell_type": "code",
      "source": [
        "from google.colab import drive\n",
        "drive.mount('/content/drive')"
      ],
      "metadata": {
        "colab": {
          "base_uri": "https://localhost:8080/"
        },
        "id": "cSsyXOu8jUMq",
        "outputId": "ee29b987-dd9e-4c37-95ed-ea92f814aa24"
      },
      "execution_count": 3,
      "outputs": [
        {
          "output_type": "stream",
          "name": "stdout",
          "text": [
            "Drive already mounted at /content/drive; to attempt to forcibly remount, call drive.mount(\"/content/drive\", force_remount=True).\n"
          ]
        }
      ]
    },
    {
      "cell_type": "code",
      "source": [
        "file_path = \"/content/drive/MyDrive/price_paid_records.csv\"\n"
      ],
      "metadata": {
        "id": "yagPwSh7jd3a"
      },
      "execution_count": 4,
      "outputs": []
    },
    {
      "cell_type": "code",
      "source": [
        "import pandas as pd\n",
        "import cudf\n",
        "import time\n",
        "import numpy as np\n"
      ],
      "metadata": {
        "id": "dfOMjaKYRscB"
      },
      "execution_count": 5,
      "outputs": []
    },
    {
      "cell_type": "code",
      "source": [
        "#Question-1"
      ],
      "metadata": {
        "id": "mXMfrHn7Uivd"
      },
      "execution_count": 6,
      "outputs": []
    },
    {
      "cell_type": "code",
      "source": [
        "# Load with pandas using full path\n",
        "start_time = time.time()\n",
        "pdf = pd.read_csv(file_path)\n",
        "pandas_load_time = time.time() - start_time\n",
        "print(f\"Pandas load time: {pandas_load_time:.4f} seconds\")\n",
        "\n",
        "# Load with cuDF using same path\n",
        "start_time = time.time()\n",
        "gdf = cudf.read_csv(file_path)\n",
        "cudf_load_time = time.time() - start_time\n",
        "print(f\"cuDF load time: {cudf_load_time:.4f} seconds\")\n"
      ],
      "metadata": {
        "colab": {
          "base_uri": "https://localhost:8080/"
        },
        "id": "r7uoUM5oRwXh",
        "outputId": "8ef04420-b1eb-40c1-a4f9-3343c323fbaa"
      },
      "execution_count": 7,
      "outputs": [
        {
          "output_type": "stream",
          "name": "stdout",
          "text": [
            "Pandas load time: 70.7017 seconds\n",
            "cuDF load time: 11.4322 seconds\n"
          ]
        }
      ]
    },
    {
      "cell_type": "code",
      "source": [
        "# Pandas\n",
        "start_time = time.time()\n",
        "print(\"Pandas .info():\")\n",
        "pdf.info()\n",
        "print(\"\\nPandas .describe():\")\n",
        "print(pdf.describe())\n",
        "pandas_info_desc_time = time.time() - start_time\n",
        "print(f\"Pandas .info() + .describe(): {pandas_info_desc_time:.4f} seconds\")\n",
        "\n",
        "# cuDF\n",
        "start_time = time.time()\n",
        "print(\"\\ncuDF .info():\")\n",
        "gdf.info()\n",
        "print(\"\\ncuDF .describe():\")\n",
        "print(gdf.describe())\n",
        "cudf_info_desc_time = time.time() - start_time\n",
        "print(f\"cuDF .info() + .describe(): {cudf_info_desc_time:.4f} seconds\")\n"
      ],
      "metadata": {
        "colab": {
          "base_uri": "https://localhost:8080/"
        },
        "id": "Ha3N1c9VS9L5",
        "outputId": "23221a86-f677-42dd-9431-efd98d3f4cd5"
      },
      "execution_count": 8,
      "outputs": [
        {
          "output_type": "stream",
          "name": "stdout",
          "text": [
            "Pandas .info():\n",
            "<class 'pandas.core.frame.DataFrame'>\n",
            "RangeIndex: 22489348 entries, 0 to 22489347\n",
            "Data columns (total 11 columns):\n",
            " #   Column                             Dtype \n",
            "---  ------                             ----- \n",
            " 0   Transaction unique identifier      object\n",
            " 1   Price                              int64 \n",
            " 2   Date of Transfer                   object\n",
            " 3   Property Type                      object\n",
            " 4   Old/New                            object\n",
            " 5   Duration                           object\n",
            " 6   Town/City                          object\n",
            " 7   District                           object\n",
            " 8   County                             object\n",
            " 9   PPDCategory Type                   object\n",
            " 10  Record Status - monthly file only  object\n",
            "dtypes: int64(1), object(10)\n",
            "memory usage: 1.8+ GB\n",
            "\n",
            "Pandas .describe():\n",
            "              Price\n",
            "count  2.248935e+07\n",
            "mean   1.782442e+05\n",
            "std    3.903677e+05\n",
            "min    1.000000e+00\n",
            "25%    7.500000e+04\n",
            "50%    1.300000e+05\n",
            "75%    2.100000e+05\n",
            "max    9.890000e+07\n",
            "Pandas .info() + .describe(): 1.0735 seconds\n",
            "\n",
            "cuDF .info():\n",
            "<class 'cudf.core.dataframe.DataFrame'>\n",
            "RangeIndex: 22489348 entries, 0 to 22489347\n",
            "Data columns (total 11 columns):\n",
            " #   Column                             Dtype\n",
            "---  ------                             -----\n",
            " 0   Transaction unique identifier      object\n",
            " 1   Price                              int64\n",
            " 2   Date of Transfer                   object\n",
            " 3   Property Type                      object\n",
            " 4   Old/New                            object\n",
            " 5   Duration                           object\n",
            " 6   Town/City                          object\n",
            " 7   District                           object\n",
            " 8   County                             object\n",
            " 9   PPDCategory Type                   object\n",
            " 10  Record Status - monthly file only  object\n",
            "dtypes: int64(1), object(10)\n",
            "memory usage: 2.9+ GB\n",
            "\n",
            "cuDF .describe():\n",
            "              Price\n",
            "count  2.248935e+07\n",
            "mean   1.782442e+05\n",
            "std    3.903677e+05\n",
            "min    1.000000e+00\n",
            "25%    7.500000e+04\n",
            "50%    1.300000e+05\n",
            "75%    2.100000e+05\n",
            "max    9.890000e+07\n",
            "cuDF .info() + .describe(): 0.5293 seconds\n"
          ]
        }
      ]
    },
    {
      "cell_type": "code",
      "source": [
        "# Pandas\n",
        "start_time = time.time()\n",
        "pdf_cleaned = pdf.dropna()\n",
        "pandas_dropna_time = time.time() - start_time\n",
        "print(f\"Pandas dropna: {pandas_dropna_time:.4f} seconds\")\n",
        "\n",
        "# cuDF\n",
        "start_time = time.time()\n",
        "gdf_cleaned = gdf.dropna()\n",
        "cudf_dropna_time = time.time() - start_time\n",
        "print(f\"cuDF dropna: {cudf_dropna_time:.4f} seconds\")\n"
      ],
      "metadata": {
        "colab": {
          "base_uri": "https://localhost:8080/"
        },
        "id": "7Vke401JTBNG",
        "outputId": "063d127b-4c18-4f77-d39b-dbc0d1b02f0f"
      },
      "execution_count": 9,
      "outputs": [
        {
          "output_type": "stream",
          "name": "stdout",
          "text": [
            "Pandas dropna: 13.6657 seconds\n",
            "cuDF dropna: 0.0553 seconds\n"
          ]
        }
      ]
    },
    {
      "cell_type": "code",
      "source": [
        "# Clean column names (remove extra spaces if any)\n",
        "pdf_cleaned.columns = pdf_cleaned.columns.str.strip()\n",
        "gdf_cleaned.columns = gdf_cleaned.columns.str.strip()\n",
        "\n",
        "# Display column names to identify the correct price column\n",
        "print(\"Pandas Columns:\\n\", pdf_cleaned.columns.tolist())\n",
        "print(\"cuDF Columns:\\n\", gdf_cleaned.columns.tolist())\n"
      ],
      "metadata": {
        "colab": {
          "base_uri": "https://localhost:8080/"
        },
        "id": "XfTFUv8zTJrg",
        "outputId": "b003b27a-c934-48ca-a5cf-523ccf9b5ecb"
      },
      "execution_count": 10,
      "outputs": [
        {
          "output_type": "stream",
          "name": "stdout",
          "text": [
            "Pandas Columns:\n",
            " ['Transaction unique identifier', 'Price', 'Date of Transfer', 'Property Type', 'Old/New', 'Duration', 'Town/City', 'District', 'County', 'PPDCategory Type', 'Record Status - monthly file only']\n",
            "cuDF Columns:\n",
            " ['Transaction unique identifier', 'Price', 'Date of Transfer', 'Property Type', 'Old/New', 'Duration', 'Town/City', 'District', 'County', 'PPDCategory Type', 'Record Status - monthly file only']\n"
          ]
        }
      ]
    },
    {
      "cell_type": "code",
      "source": [
        "# Clean column names of extra whitespace\n",
        "pdf_cleaned.columns = pdf_cleaned.columns.str.strip()\n",
        "gdf_cleaned.columns = gdf_cleaned.columns.str.strip()\n",
        "\n",
        "# Print all column names\n",
        "print(\"📌 Columns in pandas DataFrame:\")\n",
        "print(pdf_cleaned.columns.tolist())\n"
      ],
      "metadata": {
        "colab": {
          "base_uri": "https://localhost:8080/"
        },
        "id": "-ZIdxhhHToBs",
        "outputId": "2a2d5529-834e-4808-a203-fc9d09641690"
      },
      "execution_count": 11,
      "outputs": [
        {
          "output_type": "stream",
          "name": "stdout",
          "text": [
            "📌 Columns in pandas DataFrame:\n",
            "['Transaction unique identifier', 'Price', 'Date of Transfer', 'Property Type', 'Old/New', 'Duration', 'Town/City', 'District', 'County', 'PPDCategory Type', 'Record Status - monthly file only']\n"
          ]
        }
      ]
    },
    {
      "cell_type": "code",
      "source": [
        "import numpy as np\n",
        "import cupy as cp  # Required for GPU operations in cuDF\n",
        "import time\n",
        "\n",
        "# Clean column names in case of extra spaces\n",
        "pdf_cleaned.columns = pdf_cleaned.columns.str.strip()\n",
        "gdf_cleaned.columns = gdf_cleaned.columns.str.strip()\n",
        "\n",
        "# 🔹 Pandas log transformation\n",
        "start_time = time.time()\n",
        "pdf_cleaned['log_price'] = np.log(pdf_cleaned['Price'])\n",
        "pandas_log_time = time.time() - start_time\n",
        "print(f\"Pandas log(Price): {pandas_log_time:.4f} seconds\")\n",
        "\n",
        "# 🔹 cuDF log transformation\n",
        "start_time = time.time()\n",
        "# Convert cuDF Series to CuPy array and apply log\n",
        "gdf_cleaned['log_price'] = cp.log(gdf_cleaned['Price'].to_cupy())\n",
        "cudf_log_time = time.time() - start_time\n",
        "print(f\"cuDF log(Price): {cudf_log_time:.4f} seconds\")\n"
      ],
      "metadata": {
        "colab": {
          "base_uri": "https://localhost:8080/"
        },
        "id": "bcev5sWqT05Y",
        "outputId": "2bdcd2a3-6d91-49bf-cfcd-5066b91a14df"
      },
      "execution_count": 12,
      "outputs": [
        {
          "output_type": "stream",
          "name": "stdout",
          "text": [
            "Pandas log(Price): 0.2706 seconds\n",
            "cuDF log(Price): 0.6270 seconds\n"
          ]
        }
      ]
    },
    {
      "cell_type": "code",
      "source": [
        "print(pdf_cleaned.columns.tolist())\n"
      ],
      "metadata": {
        "colab": {
          "base_uri": "https://localhost:8080/"
        },
        "id": "4oVsCTt6UBoD",
        "outputId": "48826727-6758-47a2-fb66-1fa41735ad31"
      },
      "execution_count": 13,
      "outputs": [
        {
          "output_type": "stream",
          "name": "stdout",
          "text": [
            "['Transaction unique identifier', 'Price', 'Date of Transfer', 'Property Type', 'Old/New', 'Duration', 'Town/City', 'District', 'County', 'PPDCategory Type', 'Record Status - monthly file only', 'log_price']\n"
          ]
        }
      ]
    },
    {
      "cell_type": "code",
      "source": [
        "from datetime import datetime, timedelta\n",
        "\n",
        "# Define the date column name and cutoff date\n",
        "date_column = 'Date of Transfer'\n",
        "cutoff_date = datetime.now() - timedelta(days=5*365) # Approximately 5 years ago\n",
        "\n",
        "# 🟩 STEP 1: Drop nulls first in the date column (if needed)\n",
        "gdf_cleaned = gdf_cleaned.dropna(subset=[date_column])\n",
        "\n",
        "# 🟩 STEP 2: Convert to datetime (no 'errors' param)\n",
        "gdf_cleaned[date_column] = cudf.to_datetime(gdf_cleaned[date_column])\n",
        "\n",
        "# 🟩 STEP 3: Filter records within the last 5 years\n",
        "start_time = time.time()\n",
        "gdf_recent = gdf_cleaned[gdf_cleaned[date_column] >= cutoff_date]\n",
        "cudf_filter_time = time.time() - start_time\n",
        "print(f\"cuDF filter (last 5 years): {cudf_filter_time:.4f} seconds\")"
      ],
      "metadata": {
        "colab": {
          "base_uri": "https://localhost:8080/"
        },
        "id": "DMiTt16hT-aS",
        "outputId": "c41a0a5c-6743-45fe-d885-24478f3dd482"
      },
      "execution_count": 15,
      "outputs": [
        {
          "output_type": "stream",
          "name": "stdout",
          "text": [
            "cuDF filter (last 5 years): 0.0262 seconds\n"
          ]
        }
      ]
    },
    {
      "cell_type": "code",
      "source": [
        "# 🟩 STEP 1: Drop nulls first in the date column (if needed)\n",
        "gdf_cleaned = gdf_cleaned.dropna(subset=[date_column])\n",
        "\n",
        "# 🟩 STEP 2: Convert to datetime (no 'errors' param)\n",
        "gdf_cleaned[date_column] = cudf.to_datetime(gdf_cleaned[date_column])\n",
        "\n",
        "# 🟩 STEP 3: Filter records within the last 5 years\n",
        "start_time = time.time()\n",
        "gdf_recent = gdf_cleaned[gdf_cleaned[date_column] >= cutoff_date]\n",
        "cudf_filter_time = time.time() - start_time\n",
        "print(f\"cuDF filter (last 5 years): {cudf_filter_time:.4f} seconds\")\n"
      ],
      "metadata": {
        "colab": {
          "base_uri": "https://localhost:8080/"
        },
        "id": "wTfs5mlGUYxY",
        "outputId": "1f7ebc3c-bc29-4a24-bf6a-d166475a5c5c"
      },
      "execution_count": 16,
      "outputs": [
        {
          "output_type": "stream",
          "name": "stdout",
          "text": [
            "cuDF filter (last 5 years): 0.0071 seconds\n"
          ]
        }
      ]
    },
    {
      "cell_type": "code",
      "source": [
        "#Question-2"
      ],
      "metadata": {
        "id": "5tbXYs4cUmFz"
      },
      "execution_count": null,
      "outputs": []
    },
    {
      "cell_type": "code",
      "source": [
        "import pandas as pd\n",
        "import numpy as np\n",
        "import time\n",
        "\n",
        "# Step 1: Load your data again\n",
        "file_path = \"/content/drive/MyDrive/price_paid_records.csv\"\n",
        "pdf = pd.read_csv(file_path)\n",
        "\n",
        "# Step 2: Clean column names\n",
        "pdf.columns = pdf.columns.str.strip()\n",
        "\n",
        "# Step 3: Drop nulls\n",
        "pdf_cleaned = pdf.dropna()\n",
        "\n",
        "# Step 4: Fix price column and add log_price\n",
        "pdf_cleaned['Price'] = pdf_cleaned['Price'].astype(float)  # Ensure numeric\n",
        "pdf_cleaned['log_price'] = np.log(pdf_cleaned['Price'])\n",
        "\n",
        "# Done! Now pdf_cleaned is back in memory\n"
      ],
      "metadata": {
        "id": "XANpnt8eVGXt"
      },
      "execution_count": 1,
      "outputs": []
    },
    {
      "cell_type": "code",
      "source": [
        "print(pdf_cleaned.columns.tolist())\n"
      ],
      "metadata": {
        "colab": {
          "base_uri": "https://localhost:8080/"
        },
        "id": "IPy1YzCPVsp0",
        "outputId": "bfc24fa7-bd7b-4277-9b26-c61e994f0944"
      },
      "execution_count": 2,
      "outputs": [
        {
          "output_type": "stream",
          "name": "stdout",
          "text": [
            "['Transaction unique identifier', 'Price', 'Date of Transfer', 'Property Type', 'Old/New', 'Duration', 'Town/City', 'District', 'County', 'PPDCategory Type', 'Record Status - monthly file only', 'log_price']\n"
          ]
        }
      ]
    },
    {
      "cell_type": "code",
      "source": [
        "from sklearn.preprocessing import LabelEncoder\n",
        "\n",
        "categorical_cols = ['Property Type', 'Town/City', 'County']\n",
        "label_encoders = {}\n",
        "\n",
        "for col in categorical_cols:\n",
        "    pdf_cleaned[col] = pdf_cleaned[col].astype(str).str.strip()\n",
        "    le = LabelEncoder()\n",
        "    pdf_cleaned[col] = le.fit_transform(pdf_cleaned[col])\n",
        "    label_encoders[col] = le\n"
      ],
      "metadata": {
        "id": "1Vuy8ghfV1Jx"
      },
      "execution_count": 3,
      "outputs": []
    },
    {
      "cell_type": "code",
      "source": [
        "median_price = pdf_cleaned['Price'].median()\n",
        "pdf_cleaned['price_category'] = (pdf_cleaned['Price'] > median_price).astype(int)\n"
      ],
      "metadata": {
        "id": "ZlVXzKr2dlSV"
      },
      "execution_count": 4,
      "outputs": []
    },
    {
      "cell_type": "code",
      "source": [
        "from sklearn.model_selection import train_test_split\n",
        "\n",
        "# Define features (X) and target (y)\n",
        "features = ['Property Type', 'Town/City', 'County', 'log_price']\n",
        "X = pdf_cleaned[features]\n",
        "y = pdf_cleaned['price_category']\n",
        "\n",
        "# Split into train and test sets\n",
        "X_train, X_test, y_train, y_test = train_test_split(\n",
        "    X, y, test_size=0.2, random_state=42\n",
        ")\n"
      ],
      "metadata": {
        "id": "XjEl9Kn3dxnL"
      },
      "execution_count": 5,
      "outputs": []
    },
    {
      "cell_type": "code",
      "source": [
        "# Sample 50,000 rows for quick testing\n",
        "sampled_df = pdf_cleaned.sample(n=50000, random_state=42)\n",
        "\n",
        "# Redefine X and y\n",
        "features = ['Property Type', 'Town/City', 'County', 'log_price']\n",
        "X = sampled_df[features]\n",
        "y = sampled_df['price_category']\n"
      ],
      "metadata": {
        "id": "2WlGGe-lfZl4"
      },
      "execution_count": 6,
      "outputs": []
    },
    {
      "cell_type": "code",
      "source": [
        "from sklearn.model_selection import train_test_split\n",
        "\n",
        "# Redefine X and y using sampled_df\n",
        "features = ['Property Type', 'Town/City', 'County', 'log_price']\n",
        "X = sampled_df[features]\n",
        "y = sampled_df['price_category']\n",
        "\n",
        "X_train, X_test, y_train, y_test = train_test_split(\n",
        "    X, y, test_size=0.2, random_state=42\n",
        ")\n"
      ],
      "metadata": {
        "id": "NNJannQPfpHW"
      },
      "execution_count": 8,
      "outputs": []
    },
    {
      "cell_type": "code",
      "source": [
        "from sklearn.ensemble import RandomForestClassifier\n",
        "from sklearn.metrics import accuracy_score, f1_score\n",
        "import time\n",
        "\n",
        "# Train\n",
        "start_time = time.time()\n",
        "rf_sklearn = RandomForestClassifier(n_estimators=20, max_depth=10, random_state=42)\n",
        "rf_sklearn.fit(X_train, y_train)\n",
        "sklearn_train_time = time.time() - start_time\n",
        "\n",
        "# Predict\n",
        "start_time = time.time()\n",
        "y_pred_sklearn = rf_sklearn.predict(X_test)\n",
        "sklearn_predict_time = time.time() - start_time\n",
        "\n",
        "# Evaluate\n",
        "sklearn_acc = accuracy_score(y_test, y_pred_sklearn)\n",
        "sklearn_f1 = f1_score(y_test, y_pred_sklearn)\n",
        "\n",
        "print(\"✅ Scikit-learn done\")\n"
      ],
      "metadata": {
        "colab": {
          "base_uri": "https://localhost:8080/"
        },
        "id": "ryx1zq-Gfr95",
        "outputId": "469050f5-3c6e-4236-c9d1-1d92205a6044"
      },
      "execution_count": 9,
      "outputs": [
        {
          "output_type": "stream",
          "name": "stdout",
          "text": [
            "✅ Scikit-learn done\n"
          ]
        }
      ]
    },
    {
      "cell_type": "code",
      "source": [
        "import cudf\n",
        "\n",
        "# Convert the sampled pandas DataFrame to cuDF\n",
        "gdf = cudf.from_pandas(sampled_df)\n"
      ],
      "metadata": {
        "id": "dPGrJFL6gOXX"
      },
      "execution_count": 10,
      "outputs": []
    },
    {
      "cell_type": "code",
      "source": [
        "import cudf\n",
        "from cuml.model_selection import train_test_split as cu_train_test_split\n",
        "\n",
        "# Convert the sampled pandas DataFrame to cuDF\n",
        "gdf = cudf.from_pandas(sampled_df)\n",
        "\n",
        "# cuML train-test split\n",
        "X_cu = gdf[features]\n",
        "y_cu = gdf['price_category']\n",
        "\n",
        "X_train_cu, X_test_cu, y_train_cu, y_test_cu = cu_train_test_split(\n",
        "    X_cu, y_cu, test_size=0.2, random_state=42\n",
        ")"
      ],
      "metadata": {
        "id": "UCB2xhGcgR46"
      },
      "execution_count": 12,
      "outputs": []
    },
    {
      "cell_type": "code",
      "source": [
        "from cuml.ensemble import RandomForestClassifier as cuRF\n",
        "import time\n",
        "\n",
        "# Train cuML model\n",
        "start_time = time.time()\n",
        "rf_cuml = cuRF(n_estimators=20, max_depth=10, random_state=42)\n",
        "rf_cuml.fit(X_train_cu, y_train_cu)\n",
        "cuml_train_time = time.time() - start_time\n",
        "\n",
        "# Predict\n",
        "start_time = time.time()\n",
        "y_pred_cuml = rf_cuml.predict(X_test_cu)\n",
        "cuml_predict_time = time.time() - start_time\n",
        "\n",
        "# Evaluate (evaluation is done in the next cell)\n",
        "print(\"✅ cuML done\")"
      ],
      "metadata": {
        "id": "G9SKXoHIgUaR",
        "colab": {
          "base_uri": "https://localhost:8080/"
        },
        "outputId": "1992dfff-a0f3-4ca9-99ad-e2392bde9cb1"
      },
      "execution_count": 14,
      "outputs": [
        {
          "output_type": "stream",
          "name": "stdout",
          "text": [
            "✅ cuML done\n"
          ]
        }
      ]
    },
    {
      "cell_type": "code",
      "source": [
        "from sklearn.metrics import accuracy_score, f1_score\n",
        "\n",
        "# Evaluate\n",
        "cuml_acc = accuracy_score(y_test_cu.to_numpy(), y_pred_cuml.to_numpy())\n",
        "cuml_f1 = f1_score(y_test_cu.to_numpy(), y_pred_cuml.to_numpy())\n"
      ],
      "metadata": {
        "id": "vWvwh9A2gYUu"
      },
      "execution_count": 15,
      "outputs": []
    },
    {
      "cell_type": "code",
      "source": [
        "#Question-3"
      ],
      "metadata": {
        "id": "krRadod2gjcu"
      },
      "execution_count": null,
      "outputs": []
    },
    {
      "cell_type": "code",
      "source": [
        "import pandas as pd\n",
        "import numpy as np\n",
        "\n",
        "# Load the original CSV file\n",
        "file_path = \"/content/drive/MyDrive/price_paid_records.csv\"\n",
        "pdf = pd.read_csv(file_path)\n",
        "\n",
        "# Strip column names\n",
        "pdf.columns = pdf.columns.str.strip()\n",
        "\n",
        "# Drop nulls\n",
        "pdf_cleaned = pdf.dropna()\n",
        "\n",
        "# Ensure price is float\n",
        "pdf_cleaned['Price'] = pdf_cleaned['Price'].astype(float)\n",
        "\n",
        "# Add log_price column\n",
        "pdf_cleaned['log_price'] = np.log(pdf_cleaned['Price'])\n"
      ],
      "metadata": {
        "id": "NztxSXq0hKkG"
      },
      "execution_count": 1,
      "outputs": []
    },
    {
      "cell_type": "code",
      "source": [
        "sampled_df = pdf_cleaned.sample(n=50000, random_state=42)\n"
      ],
      "metadata": {
        "id": "Z9AB3a_nhd2o"
      },
      "execution_count": 2,
      "outputs": []
    },
    {
      "cell_type": "code",
      "source": [
        "df = sampled_df.copy()\n"
      ],
      "metadata": {
        "id": "gCqGX3UJhlBl"
      },
      "execution_count": 3,
      "outputs": []
    },
    {
      "cell_type": "code",
      "source": [
        "df['postcode'] = df['Transaction unique identifier'].str.extract(r'([A-Z]{1,2}\\d{1,2})', expand=False)\n"
      ],
      "metadata": {
        "id": "tu2sMfDrkK12"
      },
      "execution_count": 4,
      "outputs": []
    },
    {
      "cell_type": "code",
      "source": [
        "print(df.columns)\n",
        "print(df[['Transaction unique identifier', 'postcode']].head())\n"
      ],
      "metadata": {
        "colab": {
          "base_uri": "https://localhost:8080/"
        },
        "id": "2HMNTTE9kNds",
        "outputId": "13d1c7dd-c62c-4ab6-bbbe-b4db57e7eec7"
      },
      "execution_count": 5,
      "outputs": [
        {
          "output_type": "stream",
          "name": "stdout",
          "text": [
            "Index(['Transaction unique identifier', 'Price', 'Date of Transfer',\n",
            "       'Property Type', 'Old/New', 'Duration', 'Town/City', 'District',\n",
            "       'County', 'PPDCategory Type', 'Record Status - monthly file only',\n",
            "       'log_price', 'postcode'],\n",
            "      dtype='object')\n",
            "                   Transaction unique identifier postcode\n",
            "13893637  {6146E264-E0D9-4C53-ACC8-48DB3954F80B}      E26\n",
            "18522801  {26EBD75A-D90F-411C-85E5-4D56F0F66484}     BD75\n",
            "7259339   {E700C723-9426-4924-8D3F-1730EC3B2BCC}      E70\n",
            "2129082   {677E0E46-8E8F-4560-AD93-07F72D5AE6D5}       E0\n",
            "3112615   {E2387F76-24EC-4A7E-8A27-220E500F0DC2}      E23\n"
          ]
        }
      ]
    },
    {
      "cell_type": "code",
      "source": [
        "from itertools import combinations\n",
        "\n",
        "# Generate edges by grouping\n",
        "def generate_edges(group_col):\n",
        "    edges = []\n",
        "    for _, group in df.groupby(group_col):\n",
        "        postcodes = group['postcode'].unique()\n",
        "        edges.extend(combinations(postcodes, 2))\n",
        "    return edges\n",
        "\n",
        "# Create edges from both town and county\n",
        "town_edges = generate_edges('Town/City')\n",
        "county_edges = generate_edges('County')\n",
        "\n",
        "# Combine and create DataFrame\n",
        "all_edges = set(town_edges + county_edges)\n",
        "edges_df = pd.DataFrame(list(all_edges), columns=['src', 'dst'])\n"
      ],
      "metadata": {
        "id": "X74xfH2sjVdq"
      },
      "execution_count": 6,
      "outputs": []
    }
  ]
}